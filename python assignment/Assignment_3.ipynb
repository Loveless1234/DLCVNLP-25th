{
 "cells": [
  {
   "cell_type": "markdown",
   "metadata": {},
   "source": [
    "# By Ranjit sah"
   ]
  },
  {
   "cell_type": "markdown",
   "metadata": {},
   "source": [
    "# 1.1"
   ]
  },
  {
   "cell_type": "code",
   "execution_count": 307,
   "metadata": {},
   "outputs": [],
   "source": [
    "# my own  program  myreduce() function which works exactly like Python's built-in function reduce()\n",
    "\n",
    "def myreduce(funct,mylist):\n",
    "    \n",
    "    #intializing first index of list\n",
    "    x=mylist[0]\n",
    "    \n",
    "    for i in range(1,len(mylist)):\n",
    "        \n",
    "        #adding the terms of list sequentially\n",
    "        x = funct(x,mylist[i])\n",
    "        \n",
    "        #printing each steps\n",
    "        print(x)\n",
    "        \n",
    "        #returning the value \n",
    "    return(x)\n",
    "\n",
    "#defining the fuction to do sum of two numbers\n",
    "def add(a,b):\n",
    "    return a+b\n",
    "\n",
    "#defining the fuction to do product of two numbers\n",
    "def prod(a,b):\n",
    "    return a*b\n",
    "\n",
    "#defining the fuction to do subtract of two numbers\n",
    "def sub(a,b):\n",
    "    return a-b\n",
    "\n",
    "\n"
   ]
  },
  {
   "cell_type": "code",
   "execution_count": 308,
   "metadata": {},
   "outputs": [
    {
     "name": "stdout",
     "output_type": "stream",
     "text": [
      "3\n",
      "6\n",
      "10\n"
     ]
    },
    {
     "data": {
      "text/plain": [
       "10"
      ]
     },
     "execution_count": 308,
     "metadata": {},
     "output_type": "execute_result"
    }
   ],
   "source": [
    "mylist = [1,2,3,4]\n",
    "myreduce(add,mylist)"
   ]
  },
  {
   "cell_type": "code",
   "execution_count": 309,
   "metadata": {},
   "outputs": [
    {
     "name": "stdout",
     "output_type": "stream",
     "text": [
      "2\n",
      "6\n",
      "24\n"
     ]
    },
    {
     "data": {
      "text/plain": [
       "24"
      ]
     },
     "execution_count": 309,
     "metadata": {},
     "output_type": "execute_result"
    }
   ],
   "source": [
    "myreduce(prod,mylist)"
   ]
  },
  {
   "cell_type": "code",
   "execution_count": 310,
   "metadata": {},
   "outputs": [
    {
     "name": "stdout",
     "output_type": "stream",
     "text": [
      "-1\n",
      "-4\n",
      "-8\n"
     ]
    },
    {
     "data": {
      "text/plain": [
       "-8"
      ]
     },
     "execution_count": 310,
     "metadata": {},
     "output_type": "execute_result"
    }
   ],
   "source": [
    "myreduce(sub,mylist)"
   ]
  },
  {
   "cell_type": "markdown",
   "metadata": {},
   "source": [
    "# 1.2"
   ]
  },
  {
   "cell_type": "code",
   "execution_count": 311,
   "metadata": {},
   "outputs": [],
   "source": [
    "# my own  program  myfilter() function which works exactly like Python's built-in function ()\n",
    "\n",
    "def myfilter(funct,mylist):\n",
    "    for i in range(len(mylist)):\n",
    "        \n",
    "        #iterating each index of list and assigning each terms of list sequentially in x\n",
    "        x = funct(mylist[i])\n",
    "        \n",
    "        #returning the x\n",
    "    return(x)\n",
    "\n",
    "#defining the fuction to find even number\n",
    "def is_even(a):\n",
    "    if a%2==0:\n",
    "        print(a)\n",
    "#defining the fuction to find odd number\n",
    "def is_odd(a):\n",
    "    if a%2!=0:\n",
    "        print(a)\n",
    "         \n",
    "\n",
    "\n",
    "\n"
   ]
  },
  {
   "cell_type": "code",
   "execution_count": 312,
   "metadata": {},
   "outputs": [
    {
     "name": "stdout",
     "output_type": "stream",
     "text": [
      "1\n",
      "9\n",
      "13\n",
      "9\n"
     ]
    }
   ],
   "source": [
    "myfilter(is_odd,[1,4,8,9,12,13,14,9])"
   ]
  },
  {
   "cell_type": "code",
   "execution_count": 313,
   "metadata": {},
   "outputs": [
    {
     "name": "stdout",
     "output_type": "stream",
     "text": [
      "4\n",
      "8\n",
      "12\n",
      "14\n"
     ]
    }
   ],
   "source": [
    "myfilter(is_even,[1,4,8,9,12,13,14,9])"
   ]
  },
  {
   "cell_type": "markdown",
   "metadata": {},
   "source": [
    "# 2"
   ]
  },
  {
   "cell_type": "code",
   "execution_count": 315,
   "metadata": {},
   "outputs": [
    {
     "name": "stdout",
     "output_type": "stream",
     "text": [
      "['x', 'xx', 'xxx', 'xxxx', 'y', 'yy', 'yyy', 'yyyy', 'z', 'zz', 'zzz', 'zzzz']\n"
     ]
    }
   ],
   "source": [
    "\n",
    "xyz= list('xyz')\n",
    "mylist = []\n",
    "[mylist.append(xyz[i]*j) for i in range(len(xyz)) for j in range(1,5)]\n",
    "print(mylist)"
   ]
  },
  {
   "cell_type": "code",
   "execution_count": 316,
   "metadata": {},
   "outputs": [
    {
     "name": "stdout",
     "output_type": "stream",
     "text": [
      "['x', 'y', 'z', 'xx', 'yy', 'zz', 'xxx', 'yyy', 'zzz', 'xxxx', 'yyyy', 'zzzz']\n"
     ]
    }
   ],
   "source": [
    "xyz= list('xyz')\n",
    "mylist = []\n",
    "[mylist.append(xyz[i]*j) for j in range(1,5) for i in range(len(xyz))]\n",
    "print(mylist)"
   ]
  },
  {
   "cell_type": "code",
   "execution_count": 317,
   "metadata": {},
   "outputs": [
    {
     "name": "stdout",
     "output_type": "stream",
     "text": [
      "[[2], [3], [4], [3], [4], [5], [4], [5], [6]]\n"
     ]
    }
   ],
   "source": [
    "num = [2,3,4]\n",
    "mylist = [[a+b] for a in num for b in range(0,3)]\n",
    "print(mylist)\n"
   ]
  },
  {
   "cell_type": "code",
   "execution_count": 318,
   "metadata": {},
   "outputs": [
    {
     "name": "stdout",
     "output_type": "stream",
     "text": [
      "[[2, 3, 4, 5], [3, 4, 5, 6], [4, 5, 6, 7], [5, 6, 7, 8]]\n"
     ]
    }
   ],
   "source": [
    "num = [2,3,4,5]\n",
    "mylist = [[a+b for a in num] for b in range(0,4)]\n",
    "print(mylist)"
   ]
  },
  {
   "cell_type": "code",
   "execution_count": 320,
   "metadata": {},
   "outputs": [
    {
     "name": "stdout",
     "output_type": "stream",
     "text": [
      "[(1, 1), (2, 1), (3, 1), (1, 2), (2, 2), (3, 2), (1, 3), (2, 3), (3, 3)]\n"
     ]
    }
   ],
   "source": [
    "num = [1,2,3]\n",
    "mylist = [(b,a) for a in num for b in num]\n",
    "print(mylist)\n"
   ]
  }
 ],
 "metadata": {
  "kernelspec": {
   "display_name": "Python 3",
   "language": "python",
   "name": "python3"
  },
  "language_info": {
   "codemirror_mode": {
    "name": "ipython",
    "version": 3
   },
   "file_extension": ".py",
   "mimetype": "text/x-python",
   "name": "python",
   "nbconvert_exporter": "python",
   "pygments_lexer": "ipython3",
   "version": "3.7.6"
  }
 },
 "nbformat": 4,
 "nbformat_minor": 4
}
